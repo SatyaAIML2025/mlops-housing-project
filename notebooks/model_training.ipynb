{
 "cells": [
  {
   "cell_type": "markdown",
   "id": "1b18dc76",
   "metadata": {},
   "source": [
    "##### Train the models"
   ]
  },
  {
   "cell_type": "code",
   "execution_count": 1,
   "id": "685d017e",
   "metadata": {},
   "outputs": [],
   "source": [
    "import mlflow\n",
    "import mlflow.sklearn\n",
    "from mlflow.tracking import MlflowClient\n",
    "\n",
    "import pandas as pd\n",
    "from sklearn.datasets import fetch_california_housing\n",
    "from sklearn.model_selection import train_test_split\n",
    "from sklearn.metrics import root_mean_squared_error\n",
    "from sklearn.linear_model import LinearRegression\n",
    "from sklearn.tree import DecisionTreeRegressor"
   ]
  },
  {
   "cell_type": "markdown",
   "id": "73d23ef3",
   "metadata": {},
   "source": [
    "##### SET tracking location & experiment name"
   ]
  },
  {
   "cell_type": "code",
   "execution_count": 2,
   "id": "7b167c86",
   "metadata": {},
   "outputs": [
    {
     "data": {
      "text/plain": [
       "<Experiment: artifact_location='file:///d:/MLOpsSAssignment/mlops-housing-project/notebooks/mlruns/900441419412460389', creation_time=1754225402719, experiment_id='900441419412460389', last_update_time=1754225402719, lifecycle_stage='active', name='Housing Price Prediction', tags={}>"
      ]
     },
     "execution_count": 2,
     "metadata": {},
     "output_type": "execute_result"
    }
   ],
   "source": [
    "# --------------------------------------------------\n",
    "# 1) SET tracking location & experiment name\n",
    "# --------------------------------------------------\n",
    "mlflow.set_tracking_uri(\"file:./mlruns\")  # this will make a local ./mlruns folder\n",
    "mlflow.set_experiment(\"Housing Price Prediction\")  # experiment will show up in UI"
   ]
  },
  {
   "cell_type": "markdown",
   "id": "a33f1e38",
   "metadata": {},
   "source": [
    "##### Loading the data"
   ]
  },
  {
   "cell_type": "code",
   "execution_count": 3,
   "id": "b8d72683",
   "metadata": {},
   "outputs": [],
   "source": [
    "# --------------------------------------------------\n",
    "# 2) Load and Split Data\n",
    "# --------------------------------------------------\n",
    "data = fetch_california_housing(as_frame=True)\n",
    "df = pd.concat([data.data, data.target.rename(\"MedHouseVal\")], axis=1)\n",
    "X_train, X_test, y_train, y_test = train_test_split(\n",
    "    df.drop(columns=\"MedHouseVal\"), df[\"MedHouseVal\"], test_size=0.2, random_state=42\n",
    ")"
   ]
  },
  {
   "cell_type": "markdown",
   "id": "6f48c0f8",
   "metadata": {},
   "source": [
    "##### Train & log both models"
   ]
  },
  {
   "cell_type": "code",
   "execution_count": 5,
   "id": "50fe22ef",
   "metadata": {},
   "outputs": [
    {
     "name": "stderr",
     "output_type": "stream",
     "text": [
      "2025/08/03 20:24:26 WARNING mlflow.models.model: `artifact_path` is deprecated. Please use `name` instead.\n",
      "2025/08/03 20:24:31 WARNING mlflow.models.model: Model logged without a signature and input example. Please set `input_example` parameter when logging the model to auto infer the model signature.\n"
     ]
    },
    {
     "name": "stdout",
     "output_type": "stream",
     "text": [
      "LinearRegression: RMSE = 0.7456\n",
      "🏃 View run LinearRegression at: http://localhost:5000/#/experiments/473694890830989136/runs/dac06447269e44a7ade68f695dfbb35e\n",
      "🧪 View experiment at: http://localhost:5000/#/experiments/473694890830989136\n"
     ]
    },
    {
     "name": "stderr",
     "output_type": "stream",
     "text": [
      "2025/08/03 20:24:31 WARNING mlflow.models.model: `artifact_path` is deprecated. Please use `name` instead.\n",
      "2025/08/03 20:24:37 WARNING mlflow.models.model: Model logged without a signature and input example. Please set `input_example` parameter when logging the model to auto infer the model signature.\n"
     ]
    },
    {
     "name": "stdout",
     "output_type": "stream",
     "text": [
      "DecisionTree: RMSE = 0.7141\n",
      "🏃 View run DecisionTree at: http://localhost:5000/#/experiments/473694890830989136/runs/98f4a30856964acfb3bcf4a91acafada\n",
      "🧪 View experiment at: http://localhost:5000/#/experiments/473694890830989136\n"
     ]
    }
   ],
   "source": [
    "# --------------------------------------------------\n",
    "# 3) Train & log both models\n",
    "# --------------------------------------------------\n",
    "results = {}\n",
    "for model_name, model in {\n",
    "    \"LinearRegression\": LinearRegression(),\n",
    "    \"DecisionTree\": DecisionTreeRegressor()\n",
    "}.items():\n",
    "\n",
    "    with mlflow.start_run(run_name=model_name):\n",
    "        model.fit(X_train, y_train)\n",
    "        preds = model.predict(X_test)\n",
    "        rmse = root_mean_squared_error(y_test, preds)\n",
    "\n",
    "        # logging\n",
    "        mlflow.log_param(\"model_type\", model_name)\n",
    "        mlflow.log_metric(\"rmse\", rmse)\n",
    "        # --> IMPORTANT: artifact_path MUST be \"model\"\n",
    "        mlflow.sklearn.log_model(model, artifact_path=\"model\")\n",
    "        \n",
    "        print(f\"{model_name}: RMSE = {rmse:.4f}\")\n",
    "        results[model_name] = (rmse, mlflow.active_run().info.run_id)"
   ]
  },
  {
   "cell_type": "markdown",
   "id": "4fcd3b7b",
   "metadata": {},
   "source": [
    "##### Selecting the best model from those two"
   ]
  },
  {
   "cell_type": "code",
   "execution_count": 6,
   "id": "ba2503a4",
   "metadata": {},
   "outputs": [
    {
     "name": "stdout",
     "output_type": "stream",
     "text": [
      "\n",
      "Best model: DecisionTree with RMSE = 0.7141\n"
     ]
    }
   ],
   "source": [
    "# --------------------------------------------------\n",
    "# 4) Pick Best run\n",
    "# --------------------------------------------------\n",
    "best_model_name = min(results, key=lambda x: results[x][0])\n",
    "best_rmse, best_run_id = results[best_model_name]\n",
    "\n",
    "print(f\"\\nBest model: {best_model_name} with RMSE = {best_rmse:.4f}\")\n",
    "model_uri = f\"runs:/{best_run_id}/model\""
   ]
  },
  {
   "cell_type": "markdown",
   "id": "092990d3",
   "metadata": {},
   "source": [
    "#####  MLflow Model Registry"
   ]
  },
  {
   "cell_type": "code",
   "execution_count": 7,
   "id": "2091a703",
   "metadata": {},
   "outputs": [
    {
     "name": "stderr",
     "output_type": "stream",
     "text": [
      "Registered model 'BestHousingModel' already exists. Creating a new version of this model...\n",
      "2025/08/03 20:25:07 WARNING mlflow.tracking._model_registry.fluent: Run with id 98f4a30856964acfb3bcf4a91acafada has no artifacts at artifact path 'model', registering model based on models:/m-7ff2fb8ef22b4cb8876cce35de5ec082 instead\n",
      "2025/08/03 20:25:07 INFO mlflow.store.model_registry.abstract_store: Waiting up to 300 seconds for model version to finish creation. Model name: BestHousingModel, version 1\n",
      "Created version '1' of model 'BestHousingModel'.\n"
     ]
    },
    {
     "name": "stdout",
     "output_type": "stream",
     "text": [
      "Registered BestHousingModel as version 1\n"
     ]
    }
   ],
   "source": [
    "\n",
    "# --------------------------------------------------\n",
    "# 5) Register in Model Registry\n",
    "# --------------------------------------------------\n",
    "registered_name = \"BestHousingModel\"\n",
    "\n",
    "client = MlflowClient()\n",
    "model_version = mlflow.register_model(model_uri, registered_name)\n",
    "\n",
    "print(f\"Registered {registered_name} as version {model_version.version}\")"
   ]
  }
 ],
 "metadata": {
  "kernelspec": {
   "display_name": "mlopsvenv (3.11.7)",
   "language": "python",
   "name": "python3"
  },
  "language_info": {
   "codemirror_mode": {
    "name": "ipython",
    "version": 3
   },
   "file_extension": ".py",
   "mimetype": "text/x-python",
   "name": "python",
   "nbconvert_exporter": "python",
   "pygments_lexer": "ipython3",
   "version": "3.11.7"
  }
 },
 "nbformat": 4,
 "nbformat_minor": 5
}
